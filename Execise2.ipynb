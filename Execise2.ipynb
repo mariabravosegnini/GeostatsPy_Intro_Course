{
  "nbformat": 4,
  "nbformat_minor": 0,
  "metadata": {
    "colab": {
      "name": "Execise2.ipynb",
      "provenance": [],
      "collapsed_sections": [],
      "include_colab_link": true
    },
    "kernelspec": {
      "display_name": "Python 3",
      "language": "python",
      "name": "python3"
    },
    "language_info": {
      "codemirror_mode": {
        "name": "ipython",
        "version": 3
      },
      "file_extension": ".py",
      "mimetype": "text/x-python",
      "name": "python",
      "nbconvert_exporter": "python",
      "pygments_lexer": "ipython3",
      "version": "3.7.1"
    }
  },
  "cells": [
    {
      "cell_type": "markdown",
      "metadata": {
        "id": "view-in-github",
        "colab_type": "text"
      },
      "source": [
        "<a href=\"https://colab.research.google.com/github/mariabravosegnini/GeostatsPy_Intro_Course/blob/master/Execise2.ipynb\" target=\"_parent\"><img src=\"https://colab.research.google.com/assets/colab-badge.svg\" alt=\"Open In Colab\"/></a>"
      ]
    },
    {
      "cell_type": "markdown",
      "metadata": {
        "id": "xTSGtUJJibSX"
      },
      "source": [
        "# Example 2 - Decline Curve Analysis example"
      ]
    },
    {
      "cell_type": "markdown",
      "metadata": {
        "id": "SBNIETwlj3mp"
      },
      "source": [
        "The following is an extraction of monthly average oil production rate from well 156490, Vaca Muerta, specifically Loma Campana concession. In this activity we will expand on the concepts of lists, native python libraries, if statements and for loops. We will be using Duong equation to fit the production data."
      ]
    },
    {
      "cell_type": "markdown",
      "metadata": {
        "id": "dvTOOQyHBy7n"
      },
      "source": [
        "* Datetime conversion\n",
        "* Open and plot some production data from a well\n",
        "* Data is provided in 2 lists\n",
        "* Use Functions to define a Duong equation\n",
        "* Plot the Historical data and Duong calculated data\n",
        "* Python Statements"
      ]
    },
    {
      "cell_type": "code",
      "metadata": {
        "id": "OxL64HsNgMCc"
      },
      "source": [
        "# Import libraries"
      ],
      "execution_count": null,
      "outputs": []
    },
    {
      "cell_type": "code",
      "metadata": {
        "id": "mJHJ_5fwhLTb"
      },
      "source": [
        "dates = ['2016-03-31 00:00:00', '2016-04-30 00:00:00', '2016-05-31 00:00:00', '2016-06-30 00:00:00', \n",
        "         '2016-07-31 00:00:00', '2016-08-31 00:00:00', '2016-09-30 00:00:00', '2016-10-31 00:00:00', \n",
        "         '2016-11-30 00:00:00', '2016-12-31 00:00:00', '2017-01-31 00:00:00', '2017-02-28 00:00:00', \n",
        "         '2017-03-31 00:00:00', '2017-04-30 00:00:00', '2017-05-31 00:00:00', '2017-06-30 00:00:00', \n",
        "         '2017-07-31 00:00:00', '2017-08-31 00:00:00', '2017-09-30 00:00:00', '2017-10-31 00:00:00', \n",
        "         '2017-11-30 00:00:00', '2017-12-31 00:00:00', '2018-01-31 00:00:00', '2018-02-28 00:00:00', \n",
        "         '2018-03-31 00:00:00', '2018-04-30 00:00:00', '2018-05-31 00:00:00']\n",
        "\n",
        "times = [0, 30, 61, 91, 122, 153, 183, 214, 244, 275, 306, 334, 365, 395, 426, 456, 487, 518, 548, 579, 609, 640, 671, 699, 730, 760, 791]\n",
        "\n",
        "well_rate = [248.956137704918, 434.084242622951, 383.696186885246, 400.761678688525, 322.644003278689, \n",
        "             225.643954098361, 208.289740983607, 168.054363934426, 145.511416393443, 150.106209836066, \n",
        "             133.21188852459, 112.300216393443, 114.898708196721, 103.527213114754, 137.146747540984, \n",
        "             204.845708196721, 186.109757377049, 153.191403278689, 156.666370491803, 145.631029508197, \n",
        "             142.323108196721, 144.104931147541, 130.759819672131, 118.414921311475, 129.520380327869, \n",
        "             119.386262295082, 120.372039344262]"
      ],
      "execution_count": null,
      "outputs": []
    },
    {
      "cell_type": "markdown",
      "metadata": {
        "id": "cv6JcbA9h7DT"
      },
      "source": [
        "The Doung equation is usually used to fit unconventional production decline, the rate equation is defined as:\n",
        "\n",
        "$$ q=q_it^{-m}\\exp ^{\\frac{a}{1-m}(t^{1-m}-1)}$$"
      ]
    },
    {
      "cell_type": "code",
      "metadata": {
        "id": "LNCKQwcQBy8V"
      },
      "source": [
        ""
      ],
      "execution_count": null,
      "outputs": []
    }
  ]
}